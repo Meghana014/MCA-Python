{
 "cells": [
  {
   "cell_type": "markdown",
   "id": "34d66820",
   "metadata": {},
   "source": [
    "# program 1"
   ]
  },
  {
   "cell_type": "code",
   "execution_count": 2,
   "id": "949387bf",
   "metadata": {},
   "outputs": [
    {
     "name": "stdout",
     "output_type": "stream",
     "text": [
      "enter the size of list: 4\n",
      "enter the name: reddy\n",
      "enter the age: 56\n",
      "enter the name: meghana\n",
      "enter the age: 21\n",
      "enter the name: latha\n",
      "enter the age: 39\n",
      "enter the name: divya\n",
      "enter the age: 26\n",
      "[['reddy', 56], ['meghana', 21], ['latha', 39], ['divya', 26]]\n",
      "[['meghana', 21], ['divya', 26], ['latha', 39], ['reddy', 56]]\n"
     ]
    }
   ],
   "source": [
    "#Write a Python program that reads a list of names and ages, then prints the list sorted by age.\n",
    "list=[]\n",
    "n=int(input(\"enter the size of list: \"))\n",
    "for i in range(n):\n",
    "    l1=[]\n",
    "    l1.append(input(\"enter the name: \"))\n",
    "    l1.append(int(input(\"enter the age: \")))\n",
    "    list.append(l1)\n",
    "print(list)\n",
    "def pos_two(value):\n",
    "    return value[1]\n",
    "list.sort(key=pos_two)\n",
    "print(list)\n",
    "    \n",
    "    \n"
   ]
  },
  {
   "cell_type": "markdown",
   "id": "8c359634",
   "metadata": {},
   "source": [
    "# program 2"
   ]
  },
  {
   "cell_type": "code",
   "execution_count": 3,
   "id": "b8f2a0e3",
   "metadata": {},
   "outputs": [
    {
     "name": "stdout",
     "output_type": "stream",
     "text": [
      "enter file name with extension .txt abc.txt\n",
      "unsorted list is:  ['zoo is the place where endangered animals are preserved ', 'Hai meghana how are you', 'welcome to python programming which is the popular language']\n",
      "sorted list is:  ['Hai meghana how are you', 'welcome to python programming which is the popular language', 'zoo is the place where endangered animals are preserved ']\n"
     ]
    }
   ],
   "source": [
    "#Write a Python program that will prompt the user for a file name, read all the lines from the file into a list, sort the list,\n",
    "#and then print the lines in sorted order.\n",
    "list=[]\n",
    "filename=input(\"enter file name with extension .txt \")\n",
    "f=open(filename,\"r\")\n",
    "line=f.readline()\n",
    "#empty_str=\"\"\n",
    "while(line!=\"\"):\n",
    "    list.append(line.strip('\\n'))\n",
    "    line=f.readline()\n",
    "f.close()\n",
    "print(\"unsorted list is: \",list)\n",
    "list.sort()\n",
    "print(\"sorted list is: \",list)"
   ]
  },
  {
   "cell_type": "markdown",
   "id": "5fcf84d2",
   "metadata": {},
   "source": [
    "# program 3"
   ]
  },
  {
   "cell_type": "code",
   "execution_count": 18,
   "id": "29b69267",
   "metadata": {},
   "outputs": [
    {
     "name": "stdout",
     "output_type": "stream",
     "text": [
      "enter the filename with extension .txt: psq.txt\n",
      "The number of words in the string is--- 9\n",
      "\n",
      " The number of lines in the string is--- 2\n",
      "\n",
      " The number of characters in the string is--- 52\n"
     ]
    }
   ],
   "source": [
    "#Write a Python program that asks the user for a file name, and then prints the number of characters, words, and lines \n",
    "#in the file.\n",
    "filename=input(\"enter the filename with extension .txt: \")\n",
    "f=open(filename,\"r+\")\n",
    "no_of_words=0\n",
    "no_of_lines=0\n",
    "no_of_characters=0\n",
    "for Line in f:\n",
    "    no_of_lines+=1\n",
    "    Line=Line.strip(\"\\n\")\n",
    "    no_of_characters+=len(Line)\n",
    "    l1=Line.split()\n",
    "    no_of_words+=len(l1)\n",
    "f.close()\n",
    "print(\"The number of words in the string is---\",no_of_words)\n",
    "print(\"\\n The number of lines in the string is---\",no_of_lines)\n",
    "print(\"\\n The number of characters in the string is---\",no_of_characters)\n"
   ]
  },
  {
   "cell_type": "markdown",
   "id": "26ea9b7a",
   "metadata": {},
   "source": [
    "# program 4"
   ]
  },
  {
   "cell_type": "code",
   "execution_count": 5,
   "id": "375c54d0",
   "metadata": {},
   "outputs": [
    {
     "name": "stdout",
     "output_type": "stream",
     "text": [
      "enter the filename with extension .txt abc.txt\n",
      "enter a string is\n",
      "['zoo is the place where endangered animals are preserved \\n', 'welcome to python programming which is the popular language\\n']\n"
     ]
    }
   ],
   "source": [
    "# Write a Python program that will prompt the user for a string and a file name, and then print all lines in the file that \n",
    "#contain the string.\n",
    "list=[]\n",
    "filename=input(\"enter the filename with extension .txt \")\n",
    "f=open(filename,\"r\")\n",
    "string=input(\"enter a string \")\n",
    "line=f.readline()\n",
    "while(line!=\"\"):\n",
    "    if string in line:\n",
    "        list.append(line)\n",
    "    line=f.readline()\n",
    "f.close()\n",
    "print(list)"
   ]
  },
  {
   "cell_type": "markdown",
   "id": "6554c2ab",
   "metadata": {},
   "source": [
    "# program 5"
   ]
  },
  {
   "cell_type": "code",
   "execution_count": 19,
   "id": "97906109",
   "metadata": {},
   "outputs": [
    {
     "name": "stdout",
     "output_type": "stream",
     "text": [
      "enter length of the rectangle6\n",
      "enter breadth of the rectangle6\n",
      "area of rectangle is:-- 36\n",
      "perimeter of rectangle is:-- 24\n",
      "reactangle is a square--  True\n"
     ]
    }
   ],
   "source": [
    "#Create a class Rectangle. The constructor for this class should take two numeric arguments, which are the length and breadth.\n",
    "#Add methods to compute the area and perimeter of the rectangle, as well as methods that simply return the length and breadth.\n",
    "#Add a method isSquare that returns a Boolean value if the Rectangle is a Square.\n",
    "\n",
    "\n",
    "class Rectangle():\n",
    "    def __init__(self,length,breadth):\n",
    "        self.length=length\n",
    "        self.breadth=breadth\n",
    "    def area(self):\n",
    "        return self.length*self.breadth\n",
    "    def perimeter(self):\n",
    "        return (self.length+self.breadth)*2\n",
    "    def isSquare(self):\n",
    "        if self.length==self.breadth:\n",
    "             return True\n",
    "        else:\n",
    "            return False\n",
    "    \n",
    "\n",
    "a=int(input(\"enter length of the rectangle\"))\n",
    "b=int(input(\"enter breadth of the rectangle\"))\n",
    "R=Rectangle(a,b)\n",
    "print(\"area of rectangle is:--\",R.area())\n",
    "print(\"perimeter of rectangle is:--\",R.perimeter())\n",
    "print(\"reactangle is a square-- \",R.isSquare())\n",
    "\n",
    "\n",
    "\n",
    "    "
   ]
  },
  {
   "cell_type": "markdown",
   "id": "672ba9ff",
   "metadata": {},
   "source": [
    "# program 6"
   ]
  },
  {
   "cell_type": "code",
   "execution_count": 7,
   "id": "67ea9997",
   "metadata": {},
   "outputs": [
    {
     "name": "stdout",
     "output_type": "stream",
     "text": [
      "enter a value: 2.1\n",
      "enter another value: 3.1\n",
      "enter a value: 5.0\n",
      "enter another value: 4.2\n",
      "( 7.1 + 7.300000000000001 i)\n",
      "( -2.9 + -1.1 i)\n",
      "( 10.5 + 13.020000000000001 i)\n"
     ]
    }
   ],
   "source": [
    "#Write a class Complex for performing arithmetic with complex numbers. The constructor for this class should take two \n",
    "#floating-point values. Add methods for adding, subtracting, and multiplying two complex numbers. Overload the operators.\n",
    "class complex:\n",
    "        def __init__(self,real,imag):\n",
    "            self.real=real\n",
    "            self.imag=imag\n",
    "       \n",
    "        def __add__(self,other):\n",
    "            t=complex(0,0)\n",
    "            t.real=self.real+other.real\n",
    "            t.imag=self.imag+other.imag\n",
    "            return t\n",
    "            \n",
    "        def __sub__(self,other):\n",
    "            t=complex(0,0)\n",
    "            t.real=self.real-other.real\n",
    "            t.imag=self.imag-other.imag\n",
    "            return t\n",
    "        def __mul__(self,other):\n",
    "            t=complex(0,0)\n",
    "            t.real=self.real*other.real\n",
    "            t.imag=self.imag*other.imag\n",
    "            return t\n",
    "        def display(self):\n",
    "            print(\"(\",self.real,\"+\",self.imag,\"i)\")\n",
    "a=float(input(\"enter a value: \"))\n",
    "b=float(input(\"enter another value: \"))\n",
    "c1=complex(a,b)\n",
    "c=float(input(\"enter a value: \"))\n",
    "d=float(input(\"enter another value: \"))\n",
    "c2=complex(c,d)\n",
    "c3=c1+c2\n",
    "c3.display()\n",
    "c4=c1-c2\n",
    "c4.display()\n",
    "c5=c1*c2\n",
    "c5.display()\n",
    "\n",
    "    "
   ]
  },
  {
   "cell_type": "markdown",
   "id": "ed9f316a",
   "metadata": {},
   "source": [
    "# program 7"
   ]
  },
  {
   "cell_type": "code",
   "execution_count": 14,
   "id": "9346f1b0",
   "metadata": {},
   "outputs": [
    {
     "name": "stdout",
     "output_type": "stream",
     "text": [
      "enter an expression which ends with ) and #: a/b-c+d*e-a*c)#\n",
      "ab/c-de*+ac*-\n"
     ]
    }
   ],
   "source": [
    "# Write a Python program that uses stack to convert a fully parenthesized arithmetic expression from infix to postfix.\n",
    "def IP(sym):\n",
    "    if (sym=='+') or (sym=='-'):\n",
    "        return 1\n",
    "    elif (sym=='*') or (sym=='/'):\n",
    "        return 3\n",
    "    elif (sym=='**'):\n",
    "        return 6\n",
    "    elif (sym=='('):\n",
    "        return 9\n",
    "    elif (sym==')'):\n",
    "        return 0\n",
    "    else:\n",
    "        return 7\n",
    "\n",
    "def SP(sym):\n",
    "    if (sym=='+') or (sym=='-'):\n",
    "        return 2\n",
    "    elif (sym=='*') or (sym=='/'):\n",
    "        return 4\n",
    "    elif (sym=='**'):\n",
    "        return 5\n",
    "    elif (sym=='('):\n",
    "        return 0\n",
    "    elif (sym==')'):\n",
    "        return \n",
    "    else:\n",
    "        return 8\n",
    "\n",
    "class stack:\n",
    "    top=-1\n",
    "    values=[]\n",
    "    def isempty(self):\n",
    "        if(len(self.values)==0):\n",
    "            return True\n",
    "        else:\n",
    "            return False\n",
    "\n",
    "    def push(self,elem):\n",
    "        self.values.append(elem)\n",
    "        self.top+=1\n",
    "    \n",
    "    def pop(self):\n",
    "        if(self.isempty()):\n",
    "            print(\"stack is empty!!\")\n",
    "        else:\n",
    "            data=self.values[self.top]\n",
    "            self.values.pop()\n",
    "            self.top-=1\n",
    "            return data\n",
    "\n",
    "infix=input(\"enter an expression which ends with ) and #: \")\n",
    "postfix=\"\"\n",
    "s=stack()\n",
    "s.push('(')\n",
    "for next in infix:\n",
    "    if next=='#':\n",
    "        break;\n",
    "    while(IP(next)<SP(s.values[s.top])):\n",
    "        postfix=postfix+s.pop()\n",
    "    if(IP(next)>SP(s.values[s.top])):\n",
    "        s.push(next)\n",
    "    else:\n",
    "        s.pop()\n",
    "\n",
    "if(s.isempty()):\n",
    "    print(postfix)\n",
    "else:\n",
    "     print(\"invalid infix!!\")\n",
    "\n",
    "\n",
    "        \n"
   ]
  },
  {
   "cell_type": "markdown",
   "id": "90550308",
   "metadata": {},
   "source": [
    "# program8"
   ]
  },
  {
   "cell_type": "code",
   "execution_count": 17,
   "id": "b7edfce0",
   "metadata": {},
   "outputs": [
    {
     "name": "stdout",
     "output_type": "stream",
     "text": [
      "Enter the postfix expression : 666+/\n",
      "0.5\n"
     ]
    }
   ],
   "source": [
    "#Write a Python program that reads a postfix expression from standard input, evaluates it, and writes the value to \n",
    "#standard output.\n",
    "from ast import operator\n",
    "\n",
    "\n",
    "def isOperater(ch):\n",
    "    operator=['+','-','*','^','/']\n",
    "    if ch in operator:\n",
    "        return True;\n",
    "    else:\n",
    "        return False\n",
    "def calculate(a,b,opr):\n",
    "    if opr == \"+\":\n",
    "        return a+b\n",
    "    elif opr == '-':\n",
    "        return b-a\n",
    "    elif opr == '*':\n",
    "        return a*b\n",
    "    elif opr == '^':\n",
    "        return b**a\n",
    "    elif opr=='/':\n",
    "        return b/a\n",
    "    else:\n",
    "        print(\"invalid operator\")\n",
    "        return\n",
    "\n",
    "postfix = input(\"Enter the postfix expression : \")\n",
    "list=[]\n",
    "for i in postfix:\n",
    "    if isOperater(i):\n",
    "        val1=int(list.pop())\n",
    "        val2 = int(list.pop())\n",
    "        result = calculate(val1,val2,i)\n",
    "        list.append(result)\n",
    "    else:\n",
    "        list.append(i)\n",
    "print(list[0])"
   ]
  },
  {
   "cell_type": "markdown",
   "id": "88ed31e4",
   "metadata": {},
   "source": [
    "# program 9"
   ]
  },
  {
   "cell_type": "code",
   "execution_count": 20,
   "id": "141936a9",
   "metadata": {},
   "outputs": [
    {
     "name": "stdout",
     "output_type": "stream",
     "text": [
      "enter number of elements: 7\n",
      "enter the elements in sorted order: 34\n",
      "enter the elements in sorted order: 36\n",
      "enter the elements in sorted order: 41\n",
      "enter the elements in sorted order: 43\n",
      "enter the elements in sorted order: 45\n",
      "enter the elements in sorted order: 65\n",
      "enter the elements in sorted order: 66\n",
      "enter key to be searched: 65\n",
      "[34, 36, 41, 43, 45, 65, 66]\n",
      "5\n"
     ]
    }
   ],
   "source": [
    "#Write a Python program that implements binary search method recursively to search for an integer key in a sorted list \n",
    "#of integers.\n",
    "def rbinary(l,lb,ub,key):\n",
    "    if(lb>ub):\n",
    "        return -1\n",
    "    else:\n",
    "        mid=(lb+ub)//2\n",
    "        if(key==l[mid]):\n",
    "            return mid\n",
    "        elif key<l[mid]:\n",
    "            return rbinary(l,lb,mid-1,key)\n",
    "        elif key>l[mid]:\n",
    "            return rbinary(l,mid+1,ub,key)\n",
    "    \n",
    "    \n",
    "l=[]\n",
    "n=int(input(\"enter number of elements: \"))\n",
    "for i in range(0,n):\n",
    "    ele=int(input(\"enter the elements in sorted order: \"))\n",
    "    l.append(ele)\n",
    "key=int(input(\"enter key to be searched: \"))\n",
    "print(l)\n",
    "print(rbinary(l,0,n-1,key))\n"
   ]
  },
  {
   "cell_type": "markdown",
   "id": "0e9ed7bc",
   "metadata": {},
   "source": [
    "# program 10"
   ]
  },
  {
   "cell_type": "code",
   "execution_count": 43,
   "id": "3d0a2cf8",
   "metadata": {},
   "outputs": [
    {
     "name": "stdout",
     "output_type": "stream",
     "text": [
      "enter number of elements: 6\n",
      "enter the elements in sorted order: 12\n",
      "enter the elements in sorted order: 23\n",
      "enter the elements in sorted order: 34\n",
      "enter the elements in sorted order: 45\n",
      "enter the elements in sorted order: 56\n",
      "enter the elements in sorted order: 67\n",
      "enter key to be searched: 56\n",
      "[12, 23, 34, 45, 56, 67]\n",
      "4\n"
     ]
    }
   ],
   "source": [
    "#Write a Python program that implements binary search method non recursively to search for an integer key \n",
    "#in a sorted list of integers.\n",
    "def binary(l,key):\n",
    "    lb=0\n",
    "    ub=len(l)-1\n",
    "    mid=0\n",
    "    while(lb<ub):\n",
    "        mid=(lb+ub)//2\n",
    "        if key==l[mid]:\n",
    "            return mid\n",
    "        elif key<l[mid]:\n",
    "            ub=mid-1\n",
    "        else:\n",
    "            lb=mid+1\n",
    "    \n",
    "l=[]\n",
    "n=int(input(\"enter number of elements: \"))\n",
    "for i in range(0,n):\n",
    "    ele=int(input(\"enter the elements in sorted order: \"))\n",
    "    l.append(ele)\n",
    "key=int(input(\"enter key to be searched: \"))\n",
    "print(l)\n",
    "print(binary(l,key))"
   ]
  },
  {
   "cell_type": "markdown",
   "id": "dc6c3c0c",
   "metadata": {},
   "source": [
    "# program 11 (sorting/searching folder)"
   ]
  },
  {
   "cell_type": "markdown",
   "id": "7ea6644d",
   "metadata": {},
   "source": [
    "# program 12"
   ]
  },
  {
   "cell_type": "code",
   "execution_count": 30,
   "id": "bd522157",
   "metadata": {},
   "outputs": [
    {
     "name": "stdout",
     "output_type": "stream",
     "text": [
      "enter the number of elements to be inserted into the list 7\n",
      "enter the name:  avyayi\n",
      "enter the name:  bharathi\n",
      "enter the name:  bharu\n",
      "enter the name:  abhi\n",
      "enter the name:  aasha\n",
      "enter the name:  meghana\n",
      "enter the name:  maggi\n",
      "unsorted names is as follows:  ['avyayi', 'bharathi', 'bharu', 'abhi', 'aasha', 'meghana', 'maggi']\n",
      "sorted list is:  ['aasha', 'abhi', 'avyayi', 'bharathi', 'bharu', 'maggi', 'meghana']\n"
     ]
    }
   ],
   "source": [
    "#Write a Python program that implements bubble sort for sorting a list of names in ascending order.\n",
    "def bubble(l,n):\n",
    "    for i in range(0,n-1):\n",
    "        for j in range(0,n-i-1):\n",
    "            if (l[j]>l[j+1]):\n",
    "                temp=l[j]\n",
    "                l[j]=l[j+1]\n",
    "                l[j+1]=temp\n",
    "                \n",
    "l=list()\n",
    "n=int(input(\"enter the number of elements to be inserted into the list \"))\n",
    "for i in range(n):\n",
    "    elem=input(\"enter the name:  \")\n",
    "    l.append(elem)\n",
    "print(\"unsorted names is as follows: \",l)\n",
    "bubble(l,n)\n",
    "print(\"sorted list is: \",l)\n"
   ]
  },
  {
   "cell_type": "code",
   "execution_count": null,
   "id": "a5b1ec2b",
   "metadata": {},
   "outputs": [],
   "source": []
  }
 ],
 "metadata": {
  "kernelspec": {
   "display_name": "Python 3 (ipykernel)",
   "language": "python",
   "name": "python3"
  },
  "language_info": {
   "codemirror_mode": {
    "name": "ipython",
    "version": 3
   },
   "file_extension": ".py",
   "mimetype": "text/x-python",
   "name": "python",
   "nbconvert_exporter": "python",
   "pygments_lexer": "ipython3",
   "version": "3.9.12"
  }
 },
 "nbformat": 4,
 "nbformat_minor": 5
}
